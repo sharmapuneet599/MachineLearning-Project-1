{
 "cells": [
  {
   "cell_type": "markdown",
   "metadata": {},
   "source": [
    "**Problem Statement**\n",
    "\n",
    "A leading affiliate network company from Europe wants to leverage machine learning to improve (optimise) their conversion rates and eventually their topline. Their network is spread across multiple countries in europe such as Portugal, Germany, France, Austria, Switzerland etc.\n",
    "\n",
    "Affiliate network is a form of online marketing channel where an intermediary promotes products / services and earns commission based on conversions (click or sign up). The benefit companies sees in using such affiliate channels is that, they are able to reach to audience which doesn’t exist in their marketing reach.\n",
    "\n",
    "The company wants to improve their CPC (cost per click) performance. A future insight about an ad performance will give them enough headstart to make changes (if necessary) in their upcoming CPC campaigns.\n",
    "\n",
    "In this challenge, you have to predict the probability whether an ad will get clicked or not."
   ]
  },
  {
   "cell_type": "markdown",
   "metadata": {},
   "source": [
    "**Data Description**\n",
    "\n",
    "You are given three files to download: train.csv, test.csv and sample_submission.csv Variables in this data set are anonymized due to privacy. \n",
    "The training data is given for 10 days . The test data is given for next 3 days.\n",
    "\n",
    "**Variable - Description**\n",
    "- ID - Unique ID\n",
    "- datetime - timestamp\n",
    "- siteid - website id\n",
    "- offerid - offer id (commission based offers)\n",
    "- category - offer category\n",
    "- merchant - seller ID\n",
    "- countrycode - country where affiliates reach is present\n",
    "- browserid - browser used\n",
    "- devid - device used\n",
    "- click - target variable"
   ]
  },
  {
   "cell_type": "markdown",
   "metadata": {},
   "source": [
    "**Evaluation Metric**\n",
    "\n",
    "Submission will be evaluated based on AUC-ROC score. Higher the better."
   ]
  },
  {
   "cell_type": "code",
   "execution_count": 1,
   "metadata": {
    "collapsed": true
   },
   "outputs": [],
   "source": [
    "# Import libraries necessary for this project\n",
    "import pandas as pd\n",
    "import numpy as np\n",
    "\n",
    "# Load the training data from train.csv \n",
    "data = pd.read_csv(r\"C:\\Users\\sharm\\Desktop\\wtf\\train.csv\")\n",
    "\n",
    "# Convert feature countrycode from string to float \n",
    "data[\"countrycode\"] = data[\"countrycode\"].astype('category')\n",
    "data[\"countrycodenumber\"] = data[\"countrycode\"].cat.codes\n",
    "\n",
    "# Convert feature browserid from string to float\n",
    "data[\"browserid\"] = data[\"browserid\"].astype('category')\n",
    "data[\"browserid\"] = data[\"browserid\"].cat.codes\n",
    "\n",
    "# Convert feature devid from string to float\n",
    "data[\"devid\"] = data[\"devid\"].astype('category')\n",
    "data[\"devid\"] = data[\"devid\"].cat.codes\n",
    "\n",
    "# Inserting the features for traning\n",
    "features_train = data.drop(['click','datetime','ID','countrycode','browserid','devid','siteid'], axis = 1)\n",
    "\n",
    "# Inserting the labels for training \n",
    "labels = data['click']"
   ]
  },
  {
   "cell_type": "code",
   "execution_count": 2,
   "metadata": {
    "collapsed": true
   },
   "outputs": [],
   "source": [
    "# Load the test data from test.csv\n",
    "test = pd.read_csv(r\"C:\\Users\\sharm\\Desktop\\wtf\\test.csv\")\n",
    "\n",
    "# Convert feature countrycode from string to float \n",
    "test[\"countrycode\"] = test[\"countrycode\"].astype('category')\n",
    "test[\"countrycodenumber\"] = test[\"countrycode\"].cat.codes\n",
    "\n",
    "# Convert feature browserid from string to float\n",
    "test[\"browserid\"] = test[\"browserid\"].astype('category')\n",
    "test[\"browserid\"] = test[\"browserid\"].cat.codes\n",
    "\n",
    "# Convert feature devid from string to float\n",
    "test[\"devid\"] = test[\"devid\"].astype('category')\n",
    "test[\"devid\"] = test[\"devid\"].cat.codes\n",
    "\n",
    "# Inserting the features for testing\n",
    "features_test = test.drop(['datetime','ID','countrycode','browserid','devid','siteid'], axis = 1)"
   ]
  },
  {
   "cell_type": "code",
   "execution_count": 3,
   "metadata": {},
   "outputs": [
    {
     "name": "stdout",
     "output_type": "stream",
     "text": [
      "Training and testing split was successful\n"
     ]
    }
   ],
   "source": [
    "# Import 'train_test_split'\n",
    "from sklearn.model_selection import train_test_split\n",
    "\n",
    "# Shuffle and split the data into training and testing subsets \n",
    "X_train, X_test, y_train, y_test = train_test_split(features_train , labels , test_size=0.25 , random_state=0)\n",
    "\n",
    "# Success\n",
    "print ('Training and testing split was successful')"
   ]
  },
  {
   "cell_type": "code",
   "execution_count": 4,
   "metadata": {},
   "outputs": [
    {
     "name": "stdout",
     "output_type": "stream",
     "text": [
      "The data is successful fitted\n"
     ]
    }
   ],
   "source": [
    "# Import the Regressor\n",
    "from sklearn import linear_model\n",
    "\n",
    "# Create a Linear Regressor object\n",
    "regressor = linear_model.LinearRegression()\n",
    "\n",
    "# Fit the training data to the model \n",
    "regressor.fit(X_train,y_train)\n",
    "\n",
    "# Fitting is successful\n",
    "print ('The data is successful fitted')"
   ]
  },
  {
   "cell_type": "code",
   "execution_count": 9,
   "metadata": {},
   "outputs": [
    {
     "name": "stdout",
     "output_type": "stream",
     "text": [
      "Prediction is done on Validation set\n"
     ]
    }
   ],
   "source": [
    "# Predict on the Validation set \n",
    "predict = regressor.predict(X_test)\n",
    "\n",
    "# Model successfully predicted on Validation set\n",
    "print('Prediction is done on Validation set')"
   ]
  },
  {
   "cell_type": "code",
   "execution_count": 6,
   "metadata": {},
   "outputs": [
    {
     "name": "stdout",
     "output_type": "stream",
     "text": [
      "Validation score :  0.715821339271\n"
     ]
    }
   ],
   "source": [
    "# Import roc_auc_score' for evaluation on training data\n",
    "from sklearn.metrics import roc_auc_score\n",
    "\n",
    "# Calculate the performance score between 'y_test' and 'predict' via roc_auc_score\n",
    "roc_score = roc_auc_score(y_test,predict)\n",
    "\n",
    "# Print the Validation Score\n",
    "print ('Validation score : ',roc_score, sep = ' ')"
   ]
  },
  {
   "cell_type": "code",
   "execution_count": 7,
   "metadata": {},
   "outputs": [
    {
     "name": "stdout",
     "output_type": "stream",
     "text": [
      "Prediction is done on Test data\n"
     ]
    }
   ],
   "source": [
    "# Predict on the test data\n",
    "prediction_test = regressor.predict(features_test)\n",
    "\n",
    "# Model successfully predicted on Test data\n",
    "print('Prediction is done on Test data')"
   ]
  },
  {
   "cell_type": "code",
   "execution_count": 8,
   "metadata": {},
   "outputs": [
    {
     "name": "stdout",
     "output_type": "stream",
     "text": [
      "Exporting is successful\n"
     ]
    }
   ],
   "source": [
    "# Taking the column ID in a variable\n",
    "ID = test['ID']\n",
    "\n",
    "# Exporting result in .csv format \n",
    "pd.DataFrame({'ID':ID,'click':prediction_test}).to_csv(r'C:\\Users\\sharm\\Desktop\\Submission.csv',index=False)\n",
    "\n",
    "# Exporting is successful\n",
    "print('Exporting is successful')"
   ]
  }
 ],
 "metadata": {
  "kernelspec": {
   "display_name": "Python 3",
   "language": "python",
   "name": "python3"
  },
  "language_info": {
   "codemirror_mode": {
    "name": "ipython",
    "version": 3
   },
   "file_extension": ".py",
   "mimetype": "text/x-python",
   "name": "python",
   "nbconvert_exporter": "python",
   "pygments_lexer": "ipython3",
   "version": "3.6.2"
  }
 },
 "nbformat": 4,
 "nbformat_minor": 2
}
